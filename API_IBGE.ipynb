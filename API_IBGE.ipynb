{
 "cells": [
  {
   "cell_type": "markdown",
   "id": "ad2d00dc",
   "metadata": {},
   "source": [
    "### API IBGE\n",
    "\n",
    "https://servicodados.ibge.gov.br/api/docs"
   ]
  },
  {
   "cell_type": "code",
   "execution_count": 18,
   "id": "17ec9d9f",
   "metadata": {},
   "outputs": [],
   "source": [
    "import requests\n",
    "\n",
    "link = \"https://servicodados.ibge.gov.br/api/v3/agregados/7392/periodos/2014/variaveis/10484?localidades=N1[all]\"\n",
    "\n",
    "requisicao = requests.get(link)\n",
    "informacoes = requisicao.json()\n",
    "\n",
    "# import pprint\n",
    "\n",
    "# pprint.pprint(informacoes[0]['resultados'][0]['series'])\n",
    "\n",
    "item_busca = informacoes[0]['variavel'] # variavel\n",
    "resultados = informacoes[0]['resultados'][0]['series'] # series"
   ]
  },
  {
   "cell_type": "code",
   "execution_count": 19,
   "id": "670b08a3",
   "metadata": {},
   "outputs": [
    {
     "name": "stdout",
     "output_type": "stream",
     "text": [
      "Número de espécies da fauna e da flora brasileira avaliadas quanto ao risco de extinção\n",
      "[{'localidade': {'id': '1', 'nivel': {'id': 'N1', 'nome': 'Brasil'}, 'nome': 'Brasil'}, 'serie': {'2014': '16645'}}]\n"
     ]
    }
   ],
   "source": [
    "print(item_busca)\n",
    "print(resultados)"
   ]
  },
  {
   "cell_type": "code",
   "execution_count": null,
   "id": "06d8b4b6",
   "metadata": {},
   "outputs": [],
   "source": []
  }
 ],
 "metadata": {
  "kernelspec": {
   "display_name": "Python 3 (ipykernel)",
   "language": "python",
   "name": "python3"
  },
  "language_info": {
   "codemirror_mode": {
    "name": "ipython",
    "version": 3
   },
   "file_extension": ".py",
   "mimetype": "text/x-python",
   "name": "python",
   "nbconvert_exporter": "python",
   "pygments_lexer": "ipython3",
   "version": "3.9.7"
  }
 },
 "nbformat": 4,
 "nbformat_minor": 5
}
